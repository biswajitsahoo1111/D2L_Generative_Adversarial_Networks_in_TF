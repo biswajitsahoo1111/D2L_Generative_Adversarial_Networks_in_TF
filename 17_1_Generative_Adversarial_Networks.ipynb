{
 "cells": [
  {
   "cell_type": "code",
   "execution_count": 1,
   "metadata": {},
   "outputs": [
    {
     "name": "stdout",
     "output_type": "stream",
     "text": [
      "Tensorflow Version:  2.4.1\n"
     ]
    }
   ],
   "source": [
    "import tensorflow as tf\n",
    "print(\"Tensorflow Version: \", tf.__version__)\n",
    "\n",
    "import matplotlib.pyplot as plt\n",
    "\n",
    "from saved_class_Animator import Animator\n",
    "from saved_class_Timer import Timer\n",
    "from saved_class_Accumulator import Accumulator"
   ]
  },
  {
   "cell_type": "markdown",
   "metadata": {},
   "source": [
    "## 17.1.1. Generate some \"real\" data"
   ]
  },
  {
   "cell_type": "code",
   "execution_count": 2,
   "metadata": {},
   "outputs": [],
   "source": [
    "X = tf.random.normal(shape = (1000, 2), mean = 0.0, stddev = 1.0)\n",
    "A = tf.constant([[1, 2], [-0.1, 0.5]])\n",
    "b = tf.constant([1,2], dtype = tf.float32)\n",
    "data = tf.matmul(X, A) + b"
   ]
  },
  {
   "cell_type": "code",
   "execution_count": 3,
   "metadata": {},
   "outputs": [
    {
     "name": "stdout",
     "output_type": "stream",
     "text": [
      "The covariance matrix is\n",
      "[[1.01 1.95]\n",
      " [1.95 4.25]]\n"
     ]
    },
    {
     "data": {
      "image/png": "[encoded data removed]",
      "text/plain": [
       "<Figure size 252x180 with 1 Axes>"
      ]
     },
     "metadata": {
      "needs_background": "light"
     },
     "output_type": "display_data"
    }
   ],
   "source": [
    "plt.figure(figsize = (3.5, 2.5))\n",
    "plt.scatter(data[:100, 0], data[:100, 1])\n",
    "print(f'The covariance matrix is\\n{tf.matmul(A, A, transpose_a = True)}')\n",
    "plt.show()"
   ]
  },
  {
   "cell_type": "code",
   "execution_count": 4,
   "metadata": {},
   "outputs": [],
   "source": [
    "def load_array(data_arrays, batch_size, is_train=True):\n",
    "    \"\"\"Construct a TensorFlow data iterator.\"\"\"\n",
    "    dataset = tf.data.Dataset.from_tensor_slices(data_arrays)\n",
    "    if is_train:\n",
    "        dataset = dataset.shuffle(buffer_size=1000)\n",
    "    dataset = dataset.batch(batch_size)\n",
    "    return dataset"
   ]
  },
  {
   "cell_type": "code",
   "execution_count": 5,
   "metadata": {},
   "outputs": [],
   "source": [
    "batch_size = 8\n",
    "data_iter = load_array((data,), batch_size)"
   ]
  },
  {
   "cell_type": "markdown",
   "metadata": {},
   "source": [
    "## 17.1.2. Generator"
   ]
  },
  {
   "cell_type": "code",
   "execution_count": 6,
   "metadata": {},
   "outputs": [],
   "source": [
    "net_G = tf.keras.layers.Dense(2)"
   ]
  },
  {
   "cell_type": "markdown",
   "metadata": {},
   "source": [
    "## 17.1.3. Discriminator"
   ]
  },
  {
   "cell_type": "code",
   "execution_count": 7,
   "metadata": {},
   "outputs": [],
   "source": [
    "net_D = tf.keras.models.Sequential([\n",
    "    tf.keras.layers.Dense(5, activation = \"tanh\", input_shape = (2,)),\n",
    "    tf.keras.layers.Dense(3, activation = \"tanh\"),\n",
    "    tf.keras.layers.Dense(1)\n",
    "])"
   ]
  },
  {
   "cell_type": "markdown",
   "metadata": {},
   "source": [
    "## 17.1.4. Training"
   ]
  },
  {
   "cell_type": "code",
   "execution_count": 8,
   "metadata": {},
   "outputs": [],
   "source": [
    "def update_D(X, Z, net_D, net_G, loss, optimizer_D):  # In the book, last argument of this function is `trainer_D`. But we prefer `optimizer_D`.\n",
    "    \"\"\"Update discriminator.\"\"\"\n",
    "    batch_size = X.shape[0]\n",
    "    ones = tf.ones((batch_size,)) # Labels corresponding to real data\n",
    "    zeros = tf.zeros((batch_size,)) # Labels corresponding to fake data\n",
    "    fake_X = net_G(Z)\n",
    "    with tf.GradientTape() as tape:\n",
    "        real_Y = net_D(X)\n",
    "        fake_Y = net_D(fake_X)\n",
    "        # We multiply the loss by batch_size to match PyTorch's BCEWithLogitsLoss\n",
    "        loss_D = (loss(ones, tf.squeeze(real_Y)) + loss(zeros, tf.squeeze(fake_Y))) * batch_size / 2\n",
    "    grads_D = tape.gradient(loss_D, net_D.trainable_variables)\n",
    "    optimizer_D.apply_gradients(zip(grads_D, net_D.trainable_variables))\n",
    "    return loss_D"
   ]
  },
  {
   "cell_type": "code",
   "execution_count": 9,
   "metadata": {},
   "outputs": [],
   "source": [
    "def update_G(Z, net_D, net_G, loss, optimizer_G):\n",
    "    \"\"\"Update generator.\"\"\"\n",
    "    batch_size = Z.shape[0]\n",
    "    ones = tf.ones((batch_size,))\n",
    "    with tf.GradientTape() as tape:\n",
    "        # We could reuse `fake_X` from `update_D` to save computation\n",
    "        fake_X = net_G(Z)\n",
    "        # Recomputing `fake_Y` is needed since `net_D` is changed\n",
    "        fake_Y = net_D(fake_X)\n",
    "        # We multiply the loss by batch_size to match PyTorch's BCEWithLogits loss\n",
    "        loss_G = loss(ones, tf.squeeze(fake_Y)) * batch_size\n",
    "    grads_G = tape.gradient(loss_G, net_G.trainable_variables)\n",
    "    optimizer_G.apply_gradients(zip(grads_G, net_G.trainable_variables))\n",
    "    return loss_G"
   ]
  },
  {
   "cell_type": "code",
   "execution_count": 10,
   "metadata": {},
   "outputs": [],
   "source": [
    "def train(net_D, net_G, data_iter, num_epochs, lr_D, lr_G, latent_dim, data):\n",
    "    loss = tf.keras.losses.BinaryCrossentropy(from_logits=True, reduction = tf.keras.losses.Reduction.SUM)\n",
    "    for w in net_D.trainable_variables:\n",
    "        w.assign(tf.random.normal(mean = 0, stddev = 0.02, shape = w.shape))\n",
    "    for w in net_G.trainable_variables:\n",
    "        w.assign(tf.random.normal(mean = 0, stddev = 0.02, shape = w.shape))\n",
    "    optimizer_D = tf.keras.optimizers.Adam(learning_rate= lr_D)\n",
    "    optimizer_G = tf.keras.optimizers.Adam(learning_rate= lr_G)\n",
    "    animator = Animator(xlabel = \"epoch\", ylabel = \"loss\", xlim = [1, num_epochs],\n",
    "                        nrows = 2, figsize = (5, 5), legend = [\"discriminator\", \"generator\"])\n",
    "    animator.fig.subplots_adjust(hspace = 0.3)\n",
    "    for epoch in range(num_epochs):\n",
    "        # Train one epoch\n",
    "        timer = Timer()\n",
    "        metric = Accumulator(3)  # loss_D, loss_G, num_examples\n",
    "        for (X,) in data_iter:\n",
    "            batch_size = X.shape[0]\n",
    "            Z = tf.random.normal(mean = 0, stddev = 1, shape = (batch_size, latent_dim))\n",
    "            metric.add(update_D(X, Z, net_D, net_G, loss, optimizer_D),\n",
    "                       update_G(Z, net_D, net_G, loss, optimizer_G), batch_size)\n",
    "        # Visualize generated examples\n",
    "        Z = tf.random.normal(mean = 0, stddev = 1, shape = (100, latent_dim))\n",
    "        fake_X = net_G(Z)\n",
    "        animator.axes[1].cla()\n",
    "        animator.axes[1].scatter(data[:, 0], data[:, 1])\n",
    "        animator.axes[1].scatter(fake_X[:, 0], fake_X[:, 1])\n",
    "        animator.axes[1].legend([\"real\", \"generated\"])\n",
    "        \n",
    "        # Show the losses\n",
    "        loss_D, loss_G = metric[0] / metric[2], metric[1] / metric[2]\n",
    "        animator.add(epoch + 1, (loss_D, loss_G))\n",
    "        \n",
    "    print(f'loss_D {loss_D:.3f}, loss_G {loss_G:.3f}, '\n",
    "          f'{metric[2] / timer.stop():.1f} examples/sec')"
   ]
  },
  {
   "cell_type": "code",
   "execution_count": 11,
   "metadata": {},
   "outputs": [
    {
     "name": "stdout",
     "output_type": "stream",
     "text": [
      "loss_D 0.693, loss_G 0.694, 650.8 examples/sec\n"
     ]
    },
    {
     "data": {
      "image/png": "[encoded data removed]",
      "text/plain": [
       "<Figure size 360x360 with 2 Axes>"
      ]
     },
     "metadata": {
      "needs_background": "light"
     },
     "output_type": "display_data"
    }
   ],
   "source": [
    "lr_D, lr_G, latent_dim, num_epochs = 0.05, 0.005, 2, 20\n",
    "train(net_D, net_G, data_iter, num_epochs, lr_D, lr_G, latent_dim, data[:100])"
   ]
  }
 ],
 "metadata": {
  "kernelspec": {
   "display_name": "tf_241_gpu",
   "language": "python",
   "name": "tf_241_gpu"
  },
  "language_info": {
   "codemirror_mode": {
    "name": "ipython",
    "version": 3
   },
   "file_extension": ".py",
   "mimetype": "text/x-python",
   "name": "python",
   "nbconvert_exporter": "python",
   "pygments_lexer": "ipython3",
   "version": "3.8.8"
  }
 },
 "nbformat": 4,
 "nbformat_minor": 4
}
